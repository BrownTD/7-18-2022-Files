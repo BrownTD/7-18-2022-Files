{
 "cells": [
  {
   "cell_type": "code",
   "execution_count": 5,
   "metadata": {},
   "outputs": [
    {
     "ename": "ModuleNotFoundError",
     "evalue": "No module named 'pandas'",
     "output_type": "error",
     "traceback": [
      "\u001b[1;31m---------------------------------------------------------------------------\u001b[0m",
      "\u001b[1;31mModuleNotFoundError\u001b[0m                       Traceback (most recent call last)",
      "\u001b[1;32mc:\\Users\\Nbrown85\\Desktop\\FinTech-Workspace\\Python_Project\\Module 3\\03-Financial Analasis Pandas-Day-1\\1\\Activities\\Class 1 Activities\\02-Ins_Introducing_Series\\Solved\\introducing_series.ipynb Cell 7'\u001b[0m in \u001b[0;36m<cell line: 2>\u001b[1;34m()\u001b[0m\n\u001b[0;32m      <a href='vscode-notebook-cell:/c%3A/Users/Nbrown85/Desktop/FinTech-Workspace/Python_Project/Module%203/03-Financial%20Analasis%20Pandas-Day-1/1/Activities/Class%201%20Activities/02-Ins_Introducing_Series/Solved/introducing_series.ipynb#ch0000006?line=0'>1</a>\u001b[0m \u001b[39m# Import the pandas module and alias it as 'pd'\u001b[39;00m\n\u001b[1;32m----> <a href='vscode-notebook-cell:/c%3A/Users/Nbrown85/Desktop/FinTech-Workspace/Python_Project/Module%203/03-Financial%20Analasis%20Pandas-Day-1/1/Activities/Class%201%20Activities/02-Ins_Introducing_Series/Solved/introducing_series.ipynb#ch0000006?line=1'>2</a>\u001b[0m \u001b[39mimport\u001b[39;00m \u001b[39mpandas\u001b[39;00m \u001b[39mas\u001b[39;00m \u001b[39mpd\u001b[39;00m\n",
      "\u001b[1;31mModuleNotFoundError\u001b[0m: No module named 'pandas'"
     ]
    }
   ],
   "source": [
    "# Import the pandas module and alias it as 'pd'\n",
    "import pandas as pd\n"
   ]
  },
  {
   "cell_type": "markdown",
   "metadata": {},
   "source": [
    " # List Example"
   ]
  },
  {
   "cell_type": "code",
   "execution_count": 2,
   "metadata": {},
   "outputs": [],
   "source": [
    "# Create a list\n",
    "list_of_numbers = [12, 0, 55, 12, 12]"
   ]
  },
  {
   "cell_type": "markdown",
   "metadata": {},
   "source": [
    " ## Type Checking"
   ]
  },
  {
   "cell_type": "code",
   "execution_count": 3,
   "metadata": {},
   "outputs": [
    {
     "data": {
      "text/plain": [
       "list"
      ]
     },
     "execution_count": 3,
     "metadata": {},
     "output_type": "execute_result"
    }
   ],
   "source": [
    "# Check type of list_of_numbers\n",
    "type(list_of_numbers)\n",
    "\n"
   ]
  },
  {
   "cell_type": "code",
   "execution_count": 6,
   "metadata": {},
   "outputs": [
    {
     "data": {
      "text/plain": [
       "int"
      ]
     },
     "execution_count": 6,
     "metadata": {},
     "output_type": "execute_result"
    }
   ],
   "source": [
    "# Check type of an element in list_of_numbers\n",
    "type(list_of_numbers[0])"
   ]
  },
  {
   "cell_type": "code",
   "execution_count": 7,
   "metadata": {},
   "outputs": [
    {
     "ename": "NameError",
     "evalue": "name 'pd' is not defined",
     "output_type": "error",
     "traceback": [
      "\u001b[1;31m---------------------------------------------------------------------------\u001b[0m",
      "\u001b[1;31mNameError\u001b[0m                                 Traceback (most recent call last)",
      "\u001b[1;32mc:\\Users\\Nbrown85\\Desktop\\FinTech-Workspace\\Python_Project\\Module 3\\03-Financial Analasis Pandas-Day-1\\1\\Activities\\Class 1 Activities\\02-Ins_Introducing_Series\\Solved\\introducing_series.ipynb Cell 9'\u001b[0m in \u001b[0;36m<cell line: 2>\u001b[1;34m()\u001b[0m\n\u001b[0;32m      <a href='vscode-notebook-cell:/c%3A/Users/Nbrown85/Desktop/FinTech-Workspace/Python_Project/Module%203/03-Financial%20Analasis%20Pandas-Day-1/1/Activities/Class%201%20Activities/02-Ins_Introducing_Series/Solved/introducing_series.ipynb#ch0000008?line=0'>1</a>\u001b[0m \u001b[39m# Create a Series from the list\u001b[39;00m\n\u001b[1;32m----> <a href='vscode-notebook-cell:/c%3A/Users/Nbrown85/Desktop/FinTech-Workspace/Python_Project/Module%203/03-Financial%20Analasis%20Pandas-Day-1/1/Activities/Class%201%20Activities/02-Ins_Introducing_Series/Solved/introducing_series.ipynb#ch0000008?line=1'>2</a>\u001b[0m series_of_numbers \u001b[39m=\u001b[39m pd\u001b[39m.\u001b[39mSeries(list_of_numbers)\n",
      "\u001b[1;31mNameError\u001b[0m: name 'pd' is not defined"
     ]
    }
   ],
   "source": [
    "# Create a Series from the list\n",
    "series_of_numbers = pd.Series(list_of_numbers)"
   ]
  },
  {
   "cell_type": "code",
   "execution_count": 6,
   "metadata": {},
   "outputs": [
    {
     "data": {
      "text/plain": [
       "pandas.core.series.Series"
      ]
     },
     "execution_count": 6,
     "metadata": {},
     "output_type": "execute_result"
    }
   ],
   "source": [
    "# Check type of series_of_numbers\n",
    "type(series_of_numbers)"
   ]
  },
  {
   "cell_type": "code",
   "execution_count": 7,
   "metadata": {},
   "outputs": [
    {
     "name": "stdout",
     "output_type": "stream",
     "text": [
      "0    12\n",
      "1     0\n",
      "2    55\n",
      "3    12\n",
      "4    12\n",
      "dtype: int64\n"
     ]
    }
   ],
   "source": [
    "# Print the Series\n",
    "print(series_of_numbers)"
   ]
  },
  {
   "cell_type": "markdown",
   "metadata": {},
   "source": [
    " # Series Attributes"
   ]
  },
  {
   "cell_type": "code",
   "execution_count": 8,
   "metadata": {},
   "outputs": [
    {
     "data": {
      "text/plain": [
       "dtype('int64')"
      ]
     },
     "execution_count": 8,
     "metadata": {},
     "output_type": "execute_result"
    }
   ],
   "source": [
    "# Return the data type of the elements in the series\n",
    "series_of_numbers.dtypes"
   ]
  },
  {
   "cell_type": "code",
   "execution_count": 9,
   "metadata": {},
   "outputs": [
    {
     "data": {
      "text/plain": [
       "12"
      ]
     },
     "execution_count": 9,
     "metadata": {},
     "output_type": "execute_result"
    }
   ],
   "source": [
    "# Return the element at index 0 using iloc\n",
    "series_of_numbers.iloc[0]"
   ]
  },
  {
   "cell_type": "code",
   "execution_count": 10,
   "metadata": {},
   "outputs": [
    {
     "data": {
      "text/plain": [
       "12"
      ]
     },
     "execution_count": 10,
     "metadata": {},
     "output_type": "execute_result"
    }
   ],
   "source": [
    "# Return the element at index 0 using list syntax\n",
    "series_of_numbers[0]"
   ]
  },
  {
   "cell_type": "markdown",
   "metadata": {},
   "source": [
    " # Series Methods"
   ]
  },
  {
   "cell_type": "code",
   "execution_count": 11,
   "metadata": {},
   "outputs": [
    {
     "data": {
      "text/plain": [
       "12    3\n",
       "55    1\n",
       "0     1\n",
       "dtype: int64"
      ]
     },
     "execution_count": 11,
     "metadata": {},
     "output_type": "execute_result"
    }
   ],
   "source": [
    "# Get the count of the number of times a value occurs in a Series\n",
    "series_of_numbers.value_counts()"
   ]
  },
  {
   "cell_type": "code",
   "execution_count": 12,
   "metadata": {},
   "outputs": [
    {
     "data": {
      "text/plain": [
       "array([12,  0, 55], dtype=int64)"
      ]
     },
     "execution_count": 12,
     "metadata": {},
     "output_type": "execute_result"
    }
   ],
   "source": [
    "# Get the unique values of a Series\n",
    "series_of_numbers.unique()"
   ]
  },
  {
   "cell_type": "code",
   "execution_count": 13,
   "metadata": {},
   "outputs": [
    {
     "data": {
      "text/plain": [
       "0     36\n",
       "1      0\n",
       "2    165\n",
       "3     36\n",
       "4     36\n",
       "dtype: int64"
      ]
     },
     "execution_count": 13,
     "metadata": {},
     "output_type": "execute_result"
    }
   ],
   "source": [
    "# A function to triple any value\n",
    "def triple_value(some_value):\n",
    "    return some_value * 3\n",
    "\n",
    "\n",
    "# Apply triple value to series_of_numbers\n",
    "series_of_numbers.apply(triple_value)\n"
   ]
  },
  {
   "cell_type": "markdown",
   "metadata": {},
   "source": [
    " # Dictionary Example"
   ]
  },
  {
   "cell_type": "code",
   "execution_count": 14,
   "metadata": {},
   "outputs": [],
   "source": [
    "# A dictionary of stock values\n",
    "stock_values = {\"MSFT\": 160, \"AAPL\": \"75.09\", \"TWTR\": 32.3}"
   ]
  },
  {
   "cell_type": "code",
   "execution_count": 15,
   "metadata": {},
   "outputs": [
    {
     "name": "stdout",
     "output_type": "stream",
     "text": [
      "MSFT      160\n",
      "AAPL    75.09\n",
      "TWTR     32.3\n",
      "dtype: object\n"
     ]
    }
   ],
   "source": [
    "# Create series object from dictionary\n",
    "stock_series = pd.Series(stock_values)\n",
    "\n",
    "print(stock_series)"
   ]
  },
  {
   "cell_type": "markdown",
   "metadata": {},
   "source": [
    " ## Datatype conversion"
   ]
  },
  {
   "cell_type": "code",
   "execution_count": 16,
   "metadata": {},
   "outputs": [
    {
     "data": {
      "text/plain": [
       "dtype('O')"
      ]
     },
     "execution_count": 16,
     "metadata": {},
     "output_type": "execute_result"
    }
   ],
   "source": [
    "# Return the data type of the elements in the series\n",
    "stock_series.dtypes"
   ]
  },
  {
   "cell_type": "code",
   "execution_count": 17,
   "metadata": {},
   "outputs": [],
   "source": [
    "# Apply float to each item in the series\n",
    "stock_series = stock_series.apply(float)"
   ]
  },
  {
   "cell_type": "code",
   "execution_count": 18,
   "metadata": {},
   "outputs": [
    {
     "name": "stdout",
     "output_type": "stream",
     "text": [
      "MSFT    160.00\n",
      "AAPL     75.09\n",
      "TWTR     32.30\n",
      "dtype: float64\n"
     ]
    }
   ],
   "source": [
    "# Return the data type of the elements in the series\n",
    "stock_series.dtypes\n",
    "print(stock_series)"
   ]
  },
  {
   "cell_type": "markdown",
   "metadata": {},
   "source": [
    " ## Different Methods to Access Values"
   ]
  },
  {
   "cell_type": "code",
   "execution_count": 19,
   "metadata": {},
   "outputs": [
    {
     "name": "stdout",
     "output_type": "stream",
     "text": [
      "160.0\n",
      "160.0\n",
      "160.0\n"
     ]
    }
   ],
   "source": [
    "# Access value at index location 0 using iloc\n",
    "print(stock_series.iloc[0])\n",
    "\n",
    "# Access value at index location 0 using list syntax\n",
    "print(stock_series[0])\n",
    "\n",
    "# Access value at index MSFT\n",
    "print(stock_series[\"MSFT\"])"
   ]
  },
  {
   "cell_type": "markdown",
   "metadata": {},
   "source": [
    " ## Appending Data to Series"
   ]
  },
  {
   "cell_type": "code",
   "execution_count": 20,
   "metadata": {},
   "outputs": [
    {
     "data": {
      "text/plain": [
       "GOOGL    1754.4\n",
       "dtype: float64"
      ]
     },
     "execution_count": 20,
     "metadata": {},
     "output_type": "execute_result"
    }
   ],
   "source": [
    "# Create a new stock series for google stock. The dictionary is passed in directly.\n",
    "google_stock_series = pd.Series({\"GOOGL\": 1754.40})\n",
    "google_stock_series\n"
   ]
  },
  {
   "cell_type": "code",
   "execution_count": 8,
   "metadata": {},
   "outputs": [
    {
     "ename": "NameError",
     "evalue": "name 'stock_series' is not defined",
     "output_type": "error",
     "traceback": [
      "\u001b[1;31m---------------------------------------------------------------------------\u001b[0m",
      "\u001b[1;31mNameError\u001b[0m                                 Traceback (most recent call last)",
      "\u001b[1;32mc:\\Users\\Nbrown85\\Desktop\\FinTech-Workspace\\Python_Project\\Module 3\\03-Financial Analasis Pandas-Day-1\\1\\Activities\\Class 1 Activities\\02-Ins_Introducing_Series\\Solved\\introducing_series.ipynb Cell 11'\u001b[0m in \u001b[0;36m<cell line: 2>\u001b[1;34m()\u001b[0m\n\u001b[0;32m      <a href='vscode-notebook-cell:/c%3A/Users/Nbrown85/Desktop/FinTech-Workspace/Python_Project/Module%203/03-Financial%20Analasis%20Pandas-Day-1/1/Activities/Class%201%20Activities/02-Ins_Introducing_Series/Solved/introducing_series.ipynb#ch0000010?line=0'>1</a>\u001b[0m \u001b[39m# Append the new data without reassignment\u001b[39;00m\n\u001b[1;32m----> <a href='vscode-notebook-cell:/c%3A/Users/Nbrown85/Desktop/FinTech-Workspace/Python_Project/Module%203/03-Financial%20Analasis%20Pandas-Day-1/1/Activities/Class%201%20Activities/02-Ins_Introducing_Series/Solved/introducing_series.ipynb#ch0000010?line=1'>2</a>\u001b[0m stock_series\u001b[39m.\u001b[39mappend(google_stock_series)\n",
      "\u001b[1;31mNameError\u001b[0m: name 'stock_series' is not defined"
     ]
    }
   ],
   "source": [
    "# Append the new data without reassignment\n",
    "stock_series.append(google_stock_series)"
   ]
  },
  {
   "cell_type": "code",
   "execution_count": 22,
   "metadata": {},
   "outputs": [
    {
     "name": "stdout",
     "output_type": "stream",
     "text": [
      "MSFT      160.00\n",
      "AAPL       75.09\n",
      "TWTR       32.30\n",
      "GOOGL    1754.40\n",
      "dtype: float64\n"
     ]
    }
   ],
   "source": [
    "# Append the new data with reassignment\n",
    "stock_series = stock_series.append(google_stock_series)\n",
    "\n",
    "print(stock_series)"
   ]
  },
  {
   "cell_type": "markdown",
   "metadata": {},
   "source": [
    " ## Removing Data from Series"
   ]
  },
  {
   "cell_type": "code",
   "execution_count": 23,
   "metadata": {},
   "outputs": [
    {
     "name": "stdout",
     "output_type": "stream",
     "text": [
      "AAPL       75.09\n",
      "TWTR       32.30\n",
      "GOOGL    1754.40\n",
      "dtype: float64\n"
     ]
    }
   ],
   "source": [
    "# Drop MSFT in-place\n",
    "stock_series.drop(\"MSFT\", inplace=True)\n",
    "\n",
    "print(stock_series)"
   ]
  },
  {
   "cell_type": "markdown",
   "metadata": {},
   "source": [
    " ## Updating Series Data"
   ]
  },
  {
   "cell_type": "code",
   "execution_count": 24,
   "metadata": {},
   "outputs": [
    {
     "name": "stdout",
     "output_type": "stream",
     "text": [
      "AAPL       75.09\n",
      "TWTR       35.00\n",
      "GOOGL    1754.40\n",
      "dtype: float64\n"
     ]
    }
   ],
   "source": [
    "# Update using list syntax\n",
    "stock_series[1] = 35\n",
    "\n",
    "print(stock_series)"
   ]
  },
  {
   "cell_type": "code",
   "execution_count": 25,
   "metadata": {},
   "outputs": [
    {
     "name": "stdout",
     "output_type": "stream",
     "text": [
      "AAPL       50.0\n",
      "TWTR       35.0\n",
      "GOOGL    1754.4\n",
      "dtype: float64\n"
     ]
    }
   ],
   "source": [
    "# Update using named index label\n",
    "stock_series[\"AAPL\"] = 50\n",
    "\n",
    "print(stock_series)\n"
   ]
  },
  {
   "cell_type": "markdown",
   "metadata": {},
   "source": [
    " ## Iterating Over Series"
   ]
  },
  {
   "cell_type": "code",
   "execution_count": 26,
   "metadata": {},
   "outputs": [
    {
     "name": "stdout",
     "output_type": "stream",
     "text": [
      "50.0\n",
      "35.0\n",
      "1754.4\n"
     ]
    }
   ],
   "source": [
    "# Print prices\n",
    "for price in stock_series:\n",
    "    print(price)"
   ]
  },
  {
   "cell_type": "code",
   "execution_count": 27,
   "metadata": {},
   "outputs": [
    {
     "name": "stdout",
     "output_type": "stream",
     "text": [
      "AAPL - 50.0\n",
      "TWTR - 35.0\n",
      "GOOGL - 1754.4\n"
     ]
    }
   ],
   "source": [
    "# Print symbol and price\n",
    "for symbol, price in stock_series.items():\n",
    "    print(f\"{symbol} - {price}\")"
   ]
  },
  {
   "cell_type": "code",
   "execution_count": 10,
   "metadata": {},
   "outputs": [
    {
     "ename": "NameError",
     "evalue": "name 'pd' is not defined",
     "output_type": "error",
     "traceback": [
      "\u001b[1;31m---------------------------------------------------------------------------\u001b[0m",
      "\u001b[1;31mNameError\u001b[0m                                 Traceback (most recent call last)",
      "\u001b[1;32mc:\\Users\\Nbrown85\\Desktop\\FinTech-Workspace\\Python_Project\\Module 3\\03-Financial Analasis Pandas-Day-1\\1\\Activities\\Class 1 Activities\\02-Ins_Introducing_Series\\Solved\\introducing_series.ipynb Cell 13'\u001b[0m in \u001b[0;36m<cell line: 2>\u001b[1;34m()\u001b[0m\n\u001b[0;32m      <a href='vscode-notebook-cell:/c%3A/Users/Nbrown85/Desktop/FinTech-Workspace/Python_Project/Module%203/03-Financial%20Analasis%20Pandas-Day-1/1/Activities/Class%201%20Activities/02-Ins_Introducing_Series/Solved/introducing_series.ipynb#ch0000012?line=0'>1</a>\u001b[0m \u001b[39m# Create two series\u001b[39;00m\n\u001b[1;32m----> <a href='vscode-notebook-cell:/c%3A/Users/Nbrown85/Desktop/FinTech-Workspace/Python_Project/Module%203/03-Financial%20Analasis%20Pandas-Day-1/1/Activities/Class%201%20Activities/02-Ins_Introducing_Series/Solved/introducing_series.ipynb#ch0000012?line=1'>2</a>\u001b[0m opening_prices \u001b[39m=\u001b[39m pd\u001b[39m.\u001b[39mSeries(\n\u001b[0;32m      <a href='vscode-notebook-cell:/c%3A/Users/Nbrown85/Desktop/FinTech-Workspace/Python_Project/Module%203/03-Financial%20Analasis%20Pandas-Day-1/1/Activities/Class%201%20Activities/02-Ins_Introducing_Series/Solved/introducing_series.ipynb#ch0000012?line=2'>3</a>\u001b[0m     {\u001b[39m\"\u001b[39m\u001b[39mMSFT\u001b[39m\u001b[39m\"\u001b[39m: \u001b[39m160.32\u001b[39m, \u001b[39m\"\u001b[39m\u001b[39mAAPL\u001b[39m\u001b[39m\"\u001b[39m: \u001b[39m75.11\u001b[39m, \u001b[39m\"\u001b[39m\u001b[39mTWTR\u001b[39m\u001b[39m\"\u001b[39m: \u001b[39m32.52\u001b[39m}, name\u001b[39m=\u001b[39m\u001b[39m\"\u001b[39m\u001b[39mOpening_Price\u001b[39m\u001b[39m\"\u001b[39m\n\u001b[0;32m      <a href='vscode-notebook-cell:/c%3A/Users/Nbrown85/Desktop/FinTech-Workspace/Python_Project/Module%203/03-Financial%20Analasis%20Pandas-Day-1/1/Activities/Class%201%20Activities/02-Ins_Introducing_Series/Solved/introducing_series.ipynb#ch0000012?line=3'>4</a>\u001b[0m )\n\u001b[0;32m      <a href='vscode-notebook-cell:/c%3A/Users/Nbrown85/Desktop/FinTech-Workspace/Python_Project/Module%203/03-Financial%20Analasis%20Pandas-Day-1/1/Activities/Class%201%20Activities/02-Ins_Introducing_Series/Solved/introducing_series.ipynb#ch0000012?line=5'>6</a>\u001b[0m closing_prices \u001b[39m=\u001b[39m pd\u001b[39m.\u001b[39mSeries(\n\u001b[0;32m      <a href='vscode-notebook-cell:/c%3A/Users/Nbrown85/Desktop/FinTech-Workspace/Python_Project/Module%203/03-Financial%20Analasis%20Pandas-Day-1/1/Activities/Class%201%20Activities/02-Ins_Introducing_Series/Solved/introducing_series.ipynb#ch0000012?line=6'>7</a>\u001b[0m     {\u001b[39m\"\u001b[39m\u001b[39mMSFT\u001b[39m\u001b[39m\"\u001b[39m: \u001b[39m158.23\u001b[39m, \u001b[39m\"\u001b[39m\u001b[39mAAPL\u001b[39m\u001b[39m\"\u001b[39m: \u001b[39m77.65\u001b[39m, \u001b[39m\"\u001b[39m\u001b[39mTWTR\u001b[39m\u001b[39m\"\u001b[39m: \u001b[39m33.08\u001b[39m}, name\u001b[39m=\u001b[39m\u001b[39m\"\u001b[39m\u001b[39mClosing_Price\u001b[39m\u001b[39m\"\u001b[39m\n\u001b[0;32m      <a href='vscode-notebook-cell:/c%3A/Users/Nbrown85/Desktop/FinTech-Workspace/Python_Project/Module%203/03-Financial%20Analasis%20Pandas-Day-1/1/Activities/Class%201%20Activities/02-Ins_Introducing_Series/Solved/introducing_series.ipynb#ch0000012?line=7'>8</a>\u001b[0m )\n\u001b[0;32m      <a href='vscode-notebook-cell:/c%3A/Users/Nbrown85/Desktop/FinTech-Workspace/Python_Project/Module%203/03-Financial%20Analasis%20Pandas-Day-1/1/Activities/Class%201%20Activities/02-Ins_Introducing_Series/Solved/introducing_series.ipynb#ch0000012?line=8'>9</a>\u001b[0m \u001b[39mprint\u001b[39m(opening_prices)\n",
      "\u001b[1;31mNameError\u001b[0m: name 'pd' is not defined"
     ]
    }
   ],
   "source": [
    "# Create two series\n",
    "opening_prices = pd.Series(\n",
    "    {\"MSFT\": 160.32, \"AAPL\": 75.11, \"TWTR\": 32.52}, name=\"Opening Price\"\n",
    ")\n",
    "\n",
    "closing_prices = pd.Series(\n",
    "    {\"MSFT\": 158.23, \"AAPL\": 77.65, \"TWTR\": 33.08}, name=\"Closing Price\"\n",
    ")\n",
    "print(opening_prices)\n"
   ]
  }
 ],
 "metadata": {
  "kernelspec": {
   "display_name": "Python 3.10.5 64-bit",
   "language": "python",
   "name": "python3"
  },
  "language_info": {
   "codemirror_mode": {
    "name": "ipython",
    "version": 3
   },
   "file_extension": ".py",
   "mimetype": "text/x-python",
   "name": "python",
   "nbconvert_exporter": "python",
   "pygments_lexer": "ipython3",
   "version": "3.10.5"
  },
  "vscode": {
   "interpreter": {
    "hash": "456c39e68affd388115a3a9b0ae0a73ae46ebe8619fc6cdabb9bece00b948b7e"
   }
  }
 },
 "nbformat": 4,
 "nbformat_minor": 4
}
