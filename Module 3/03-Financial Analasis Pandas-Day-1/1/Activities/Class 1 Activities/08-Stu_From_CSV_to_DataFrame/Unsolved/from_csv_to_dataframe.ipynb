{
 "cells": [
  {
   "cell_type": "markdown",
   "metadata": {},
   "source": [
    "# From CSV to DataFrame\n",
    "\n",
    "In this activity, you will import a CSV file and create a DataFrame with a Datetime Index.\n",
    "\n",
    "Instructions:\n",
    "\n",
    "1. Import the required libraries and dependecies.\n",
    "\n",
    "2. Using the Pandas `read_csv` function, create a Pandas Dataframe by importing the \"prices.csv\" file from the Resources folder.  The Pandas `read_csv` funtion will take in 4 parameters:\n",
    "    * Using the Path module, specify the relative path to the \"prices.csv\" file.\n",
    "    * Set the `index_col` parameter to specify the \"Date\" column as the index for the Pandas DataFrame.\n",
    "    * Set the `parse_dates` parameter to True.\n",
    "    * Set the `infer_datetime_format` parameter to True. \n",
    "\n",
    "3. Review the first five rows of the DataFrame using the Pandas `head` function.\n",
    "\n",
    "4. Review the last five rows of the DataFrame using the Pandas `tail` function.\n",
    "\n",
    "5. Review both the first and last seven rows of the DataFrame from one cell by calling the Pandas `display` function in conjunction with the `head` and `tail` functions. \n",
    "\n",
    "6. Review basic information of the DataFrame by calling the Pandas `info` function.\n",
    "\n",
    "7. Generate the summary statistics for the DataFrame by calling the Pandas `describe` function. \n"
   ]
  },
  {
   "cell_type": "markdown",
   "metadata": {},
   "source": [
    "## Import the required libraries and dependencies.\n"
   ]
  },
  {
   "cell_type": "code",
   "execution_count": 4,
   "metadata": {},
   "outputs": [
    {
     "ename": "ModuleNotFoundError",
     "evalue": "No module named 'pandas'",
     "output_type": "error",
     "traceback": [
      "\u001b[1;31m---------------------------------------------------------------------------\u001b[0m",
      "\u001b[1;31mModuleNotFoundError\u001b[0m                       Traceback (most recent call last)",
      "\u001b[1;32mc:\\Users\\Nbrown85\\Desktop\\FinTech-Workspace\\Python_Project\\Module 3\\03-Financial Analasis Pandas-Day-1\\1\\Activities\\Class 1 Activities\\08-Stu_From_CSV_to_DataFrame\\Unsolved\\from_csv_to_dataframe.ipynb Cell 3'\u001b[0m in \u001b[0;36m<cell line: 2>\u001b[1;34m()\u001b[0m\n\u001b[0;32m      <a href='vscode-notebook-cell:/c%3A/Users/Nbrown85/Desktop/FinTech-Workspace/Python_Project/Module%203/03-Financial%20Analasis%20Pandas-Day-1/1/Activities/Class%201%20Activities/08-Stu_From_CSV_to_DataFrame/Unsolved/from_csv_to_dataframe.ipynb#ch0000002?line=0'>1</a>\u001b[0m \u001b[39m# Import the Pandas library\u001b[39;00m\n\u001b[1;32m----> <a href='vscode-notebook-cell:/c%3A/Users/Nbrown85/Desktop/FinTech-Workspace/Python_Project/Module%203/03-Financial%20Analasis%20Pandas-Day-1/1/Activities/Class%201%20Activities/08-Stu_From_CSV_to_DataFrame/Unsolved/from_csv_to_dataframe.ipynb#ch0000002?line=1'>2</a>\u001b[0m \u001b[39mimport\u001b[39;00m \u001b[39mpandas\u001b[39;00m \u001b[39mas\u001b[39;00m \u001b[39mpd\u001b[39;00m\n\u001b[0;32m      <a href='vscode-notebook-cell:/c%3A/Users/Nbrown85/Desktop/FinTech-Workspace/Python_Project/Module%203/03-Financial%20Analasis%20Pandas-Day-1/1/Activities/Class%201%20Activities/08-Stu_From_CSV_to_DataFrame/Unsolved/from_csv_to_dataframe.ipynb#ch0000002?line=2'>3</a>\u001b[0m \u001b[39m# YOUR CODE HERE\u001b[39;00m\n\u001b[0;32m      <a href='vscode-notebook-cell:/c%3A/Users/Nbrown85/Desktop/FinTech-Workspace/Python_Project/Module%203/03-Financial%20Analasis%20Pandas-Day-1/1/Activities/Class%201%20Activities/08-Stu_From_CSV_to_DataFrame/Unsolved/from_csv_to_dataframe.ipynb#ch0000002?line=3'>4</a>\u001b[0m \n\u001b[0;32m      <a href='vscode-notebook-cell:/c%3A/Users/Nbrown85/Desktop/FinTech-Workspace/Python_Project/Module%203/03-Financial%20Analasis%20Pandas-Day-1/1/Activities/Class%201%20Activities/08-Stu_From_CSV_to_DataFrame/Unsolved/from_csv_to_dataframe.ipynb#ch0000002?line=4'>5</a>\u001b[0m \u001b[39m# Import the Path module from the pathlib library\u001b[39;00m\n\u001b[0;32m      <a href='vscode-notebook-cell:/c%3A/Users/Nbrown85/Desktop/FinTech-Workspace/Python_Project/Module%203/03-Financial%20Analasis%20Pandas-Day-1/1/Activities/Class%201%20Activities/08-Stu_From_CSV_to_DataFrame/Unsolved/from_csv_to_dataframe.ipynb#ch0000002?line=5'>6</a>\u001b[0m \u001b[39mfrom\u001b[39;00m \u001b[39mpathlib\u001b[39;00m \u001b[39mimport\u001b[39;00m Path\n",
      "\u001b[1;31mModuleNotFoundError\u001b[0m: No module named 'pandas'"
     ]
    }
   ],
   "source": [
    "# Import the Pandas library\n",
    "import pandas as pd\n",
    "# YOUR CODE HERE\n",
    "\n",
    "# Import the Path module from the pathlib library\n",
    "from pathlib import Path\n",
    "# YOUR CODE HERE\n"
   ]
  },
  {
   "cell_type": "markdown",
   "metadata": {},
   "source": [
    "## Using the Pandas `read_csv` function, create a Pandas Dataframe by importing the \"prices.csv\" file from the Resources folder.\n",
    "\n",
    "The `read_csv` function should take in 4 parameters:\n",
    "\n",
    "1. Using the Path module, specify the relative path to the \"prices.csv\" file.\n",
    "2. Set the `index_col` parameter to specify the \"Date\" column as the index for the Pandas DataFrame.\n",
    "3. Set the `parse_dates` parameter to True.\n",
    "4. Set the `infer_datetime_format` parameter to True. "
   ]
  },
  {
   "cell_type": "code",
   "execution_count": null,
   "metadata": {},
   "outputs": [],
   "source": [
    "# Use the `read_csv` function to create the Pandas DataFrame\n",
    "\n",
    "# YOUR CODE HERE"
   ]
  },
  {
   "cell_type": "markdown",
   "metadata": {},
   "source": [
    "## Review the first five rows of the DataFrame using the Pandas `head` function."
   ]
  },
  {
   "cell_type": "code",
   "execution_count": null,
   "metadata": {},
   "outputs": [],
   "source": [
    "# Review the first five rows of the DataFrame\n",
    "# YOUR CODE HERE"
   ]
  },
  {
   "cell_type": "markdown",
   "metadata": {},
   "source": [
    "## Review the last five rows of the DataFrame using the Pandas `tail` function."
   ]
  },
  {
   "cell_type": "code",
   "execution_count": null,
   "metadata": {},
   "outputs": [],
   "source": [
    "# Review the last five rows of the DataFrame\n",
    "# YOUR CODE HERE"
   ]
  },
  {
   "cell_type": "markdown",
   "metadata": {},
   "source": [
    "## Review both the first and last seven rows of the DataFrame from one cell by calling the Pandas `display` function in conjunction with the `head` and `tail` functions. "
   ]
  },
  {
   "cell_type": "code",
   "execution_count": null,
   "metadata": {},
   "outputs": [],
   "source": [
    "# Review the first and last seven rows of the DataFrame from the same cell\n",
    "# YOUR CODE HERE\n",
    "# YOUR CODE HERE\n"
   ]
  },
  {
   "cell_type": "markdown",
   "metadata": {},
   "source": [
    "## Review basic information of the DataFrame by calling the Pandas `info` function."
   ]
  },
  {
   "cell_type": "code",
   "execution_count": null,
   "metadata": {},
   "outputs": [],
   "source": [
    "# Review basic information about the DataFrame\n",
    "# YOUR CODE HERE\n"
   ]
  },
  {
   "cell_type": "markdown",
   "metadata": {},
   "source": [
    "## Generate the summary statistics for the DataFrame by calling the Pandas `describe` function. "
   ]
  },
  {
   "cell_type": "code",
   "execution_count": null,
   "metadata": {},
   "outputs": [],
   "source": [
    "# Generate the summary statistics for the DataFrame\n",
    "# YOUR CODE HERE\n"
   ]
  }
 ],
 "metadata": {
  "kernelspec": {
   "display_name": "Python 3.10.5 64-bit",
   "language": "python",
   "name": "python3"
  },
  "language_info": {
   "codemirror_mode": {
    "name": "ipython",
    "version": 3
   },
   "file_extension": ".py",
   "mimetype": "text/x-python",
   "name": "python",
   "nbconvert_exporter": "python",
   "pygments_lexer": "ipython3",
   "version": "3.10.5"
  },
  "vscode": {
   "interpreter": {
    "hash": "456c39e68affd388115a3a9b0ae0a73ae46ebe8619fc6cdabb9bece00b948b7e"
   }
  }
 },
 "nbformat": 4,
 "nbformat_minor": 4
}
